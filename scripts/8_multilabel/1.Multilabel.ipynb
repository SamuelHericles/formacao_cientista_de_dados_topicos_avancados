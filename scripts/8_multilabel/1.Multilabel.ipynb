{
 "cells": [
  {
   "cell_type": "code",
   "execution_count": 37,
   "metadata": {},
   "outputs": [],
   "source": [
    "#pip install scikit-multilearn\n",
    "#!pip uninstall scikit-learn -y\n",
    "#!pip install scikit-learn==0.24.2"
   ]
  },
  {
   "cell_type": "markdown",
   "metadata": {},
   "source": [
    "# Imports"
   ]
  },
  {
   "cell_type": "code",
   "execution_count": 38,
   "metadata": {},
   "outputs": [],
   "source": [
    "import pandas as pd\n",
    "\n",
    "# - algoritmos adaptados\n",
    "#    - Transforma os modelos de classificação tradicional para o modo multilabel;\n",
    "#    - Knn e Hierarquical ARAM NN\n",
    "from skmultilearn.adapt import MLkNN, MLARAM\n",
    "\n",
    "from sklearn.svm import SVC\n",
    "from sklearn.metrics import hamming_loss\n",
    "from sklearn.model_selection import train_test_split\n",
    "\n",
    "#transformação de problemas\n",
    "from skmultilearn.problem_transform import BinaryRelevance, ClassifierChain, LabelPowerset"
   ]
  },
  {
   "cell_type": "markdown",
   "metadata": {},
   "source": [
    "# Carregar a base"
   ]
  },
  {
   "cell_type": "code",
   "execution_count": 39,
   "metadata": {},
   "outputs": [
    {
     "data": {
      "text/html": [
       "<div>\n",
       "<style scoped>\n",
       "    .dataframe tbody tr th:only-of-type {\n",
       "        vertical-align: middle;\n",
       "    }\n",
       "\n",
       "    .dataframe tbody tr th {\n",
       "        vertical-align: top;\n",
       "    }\n",
       "\n",
       "    .dataframe thead th {\n",
       "        text-align: right;\n",
       "    }\n",
       "</style>\n",
       "<table border=\"1\" class=\"dataframe\">\n",
       "  <thead>\n",
       "    <tr style=\"text-align: right;\">\n",
       "      <th></th>\n",
       "      <th>amazed-suprised</th>\n",
       "      <th>happy-pleased</th>\n",
       "      <th>relaxing-clam</th>\n",
       "      <th>quiet-still</th>\n",
       "      <th>sad-lonely</th>\n",
       "      <th>angry-aggresive</th>\n",
       "      <th>Mean_Acc1298_Mean_Mem40_Centroid</th>\n",
       "      <th>Mean_Acc1298_Mean_Mem40_Rolloff</th>\n",
       "      <th>Mean_Acc1298_Mean_Mem40_Flux</th>\n",
       "      <th>Mean_Acc1298_Mean_Mem40_MFCC_0</th>\n",
       "      <th>...</th>\n",
       "      <th>Std_Acc1298_Std_Mem40_MFCC_10</th>\n",
       "      <th>Std_Acc1298_Std_Mem40_MFCC_11</th>\n",
       "      <th>Std_Acc1298_Std_Mem40_MFCC_12</th>\n",
       "      <th>BH_LowPeakAmp</th>\n",
       "      <th>BH_LowPeakBPM</th>\n",
       "      <th>BH_HighPeakAmp</th>\n",
       "      <th>BH_HighPeakBPM</th>\n",
       "      <th>BHSUM1</th>\n",
       "      <th>BHSUM2</th>\n",
       "      <th>BHSUM3</th>\n",
       "    </tr>\n",
       "  </thead>\n",
       "  <tbody>\n",
       "    <tr>\n",
       "      <th>0</th>\n",
       "      <td>0</td>\n",
       "      <td>1</td>\n",
       "      <td>1</td>\n",
       "      <td>0</td>\n",
       "      <td>0</td>\n",
       "      <td>0</td>\n",
       "      <td>0.132498</td>\n",
       "      <td>0.077848</td>\n",
       "      <td>0.229227</td>\n",
       "      <td>0.602629</td>\n",
       "      <td>...</td>\n",
       "      <td>0.197026</td>\n",
       "      <td>0.196244</td>\n",
       "      <td>0.164323</td>\n",
       "      <td>0.030017</td>\n",
       "      <td>0.253968</td>\n",
       "      <td>0.008473</td>\n",
       "      <td>0.240602</td>\n",
       "      <td>0.136735</td>\n",
       "      <td>0.058442</td>\n",
       "      <td>0.107594</td>\n",
       "    </tr>\n",
       "    <tr>\n",
       "      <th>1</th>\n",
       "      <td>1</td>\n",
       "      <td>0</td>\n",
       "      <td>0</td>\n",
       "      <td>0</td>\n",
       "      <td>0</td>\n",
       "      <td>1</td>\n",
       "      <td>0.384281</td>\n",
       "      <td>0.355249</td>\n",
       "      <td>0.167190</td>\n",
       "      <td>0.853089</td>\n",
       "      <td>...</td>\n",
       "      <td>0.093526</td>\n",
       "      <td>0.085649</td>\n",
       "      <td>0.025101</td>\n",
       "      <td>0.182955</td>\n",
       "      <td>0.285714</td>\n",
       "      <td>0.156764</td>\n",
       "      <td>0.270677</td>\n",
       "      <td>0.191377</td>\n",
       "      <td>0.153728</td>\n",
       "      <td>0.197951</td>\n",
       "    </tr>\n",
       "    <tr>\n",
       "      <th>2</th>\n",
       "      <td>0</td>\n",
       "      <td>1</td>\n",
       "      <td>0</td>\n",
       "      <td>0</td>\n",
       "      <td>0</td>\n",
       "      <td>1</td>\n",
       "      <td>0.541782</td>\n",
       "      <td>0.356491</td>\n",
       "      <td>0.152246</td>\n",
       "      <td>0.791142</td>\n",
       "      <td>...</td>\n",
       "      <td>0.198082</td>\n",
       "      <td>0.108067</td>\n",
       "      <td>0.140574</td>\n",
       "      <td>0.099303</td>\n",
       "      <td>0.142857</td>\n",
       "      <td>0.000000</td>\n",
       "      <td>0.593985</td>\n",
       "      <td>0.105114</td>\n",
       "      <td>0.025555</td>\n",
       "      <td>0.122965</td>\n",
       "    </tr>\n",
       "  </tbody>\n",
       "</table>\n",
       "<p>3 rows × 77 columns</p>\n",
       "</div>"
      ],
      "text/plain": [
       "   amazed-suprised  happy-pleased  relaxing-clam  quiet-still  sad-lonely  \\\n",
       "0                0              1              1            0           0   \n",
       "1                1              0              0            0           0   \n",
       "2                0              1              0            0           0   \n",
       "\n",
       "   angry-aggresive  Mean_Acc1298_Mean_Mem40_Centroid  \\\n",
       "0                0                          0.132498   \n",
       "1                1                          0.384281   \n",
       "2                1                          0.541782   \n",
       "\n",
       "   Mean_Acc1298_Mean_Mem40_Rolloff  Mean_Acc1298_Mean_Mem40_Flux  \\\n",
       "0                         0.077848                      0.229227   \n",
       "1                         0.355249                      0.167190   \n",
       "2                         0.356491                      0.152246   \n",
       "\n",
       "   Mean_Acc1298_Mean_Mem40_MFCC_0  ...  Std_Acc1298_Std_Mem40_MFCC_10  \\\n",
       "0                        0.602629  ...                       0.197026   \n",
       "1                        0.853089  ...                       0.093526   \n",
       "2                        0.791142  ...                       0.198082   \n",
       "\n",
       "   Std_Acc1298_Std_Mem40_MFCC_11  Std_Acc1298_Std_Mem40_MFCC_12  \\\n",
       "0                       0.196244                       0.164323   \n",
       "1                       0.085649                       0.025101   \n",
       "2                       0.108067                       0.140574   \n",
       "\n",
       "   BH_LowPeakAmp  BH_LowPeakBPM  BH_HighPeakAmp  BH_HighPeakBPM    BHSUM1  \\\n",
       "0       0.030017       0.253968        0.008473        0.240602  0.136735   \n",
       "1       0.182955       0.285714        0.156764        0.270677  0.191377   \n",
       "2       0.099303       0.142857        0.000000        0.593985  0.105114   \n",
       "\n",
       "     BHSUM2    BHSUM3  \n",
       "0  0.058442  0.107594  \n",
       "1  0.153728  0.197951  \n",
       "2  0.025555  0.122965  \n",
       "\n",
       "[3 rows x 77 columns]"
      ]
     },
     "metadata": {},
     "output_type": "display_data"
    },
    {
     "name": "stdout",
     "output_type": "stream",
     "text": [
      "<class 'pandas.core.frame.DataFrame'>\n",
      "RangeIndex: 592 entries, 0 to 591\n",
      "Data columns (total 77 columns):\n",
      " #   Column                            Non-Null Count  Dtype  \n",
      "---  ------                            --------------  -----  \n",
      " 0   amazed-suprised                   592 non-null    int64  \n",
      " 1   happy-pleased                     592 non-null    int64  \n",
      " 2   relaxing-clam                     592 non-null    int64  \n",
      " 3   quiet-still                       592 non-null    int64  \n",
      " 4   sad-lonely                        592 non-null    int64  \n",
      " 5   angry-aggresive                   592 non-null    int64  \n",
      " 6   Mean_Acc1298_Mean_Mem40_Centroid  592 non-null    float64\n",
      " 7   Mean_Acc1298_Mean_Mem40_Rolloff   592 non-null    float64\n",
      " 8   Mean_Acc1298_Mean_Mem40_Flux      592 non-null    float64\n",
      " 9   Mean_Acc1298_Mean_Mem40_MFCC_0    592 non-null    float64\n",
      " 10  Mean_Acc1298_Mean_Mem40_MFCC_1    592 non-null    float64\n",
      " 11  Mean_Acc1298_Mean_Mem40_MFCC_2    592 non-null    float64\n",
      " 12  Mean_Acc1298_Mean_Mem40_MFCC_3    592 non-null    float64\n",
      " 13  Mean_Acc1298_Mean_Mem40_MFCC_4    592 non-null    float64\n",
      " 14  Mean_Acc1298_Mean_Mem40_MFCC_5    592 non-null    float64\n",
      " 15  Mean_Acc1298_Mean_Mem40_MFCC_6    592 non-null    float64\n",
      " 16  Mean_Acc1298_Mean_Mem40_MFCC_7    592 non-null    float64\n",
      " 17  Mean_Acc1298_Mean_Mem40_MFCC_8    592 non-null    float64\n",
      " 18  Mean_Acc1298_Mean_Mem40_MFCC_9    592 non-null    float64\n",
      " 19  Mean_Acc1298_Mean_Mem40_MFCC_10   592 non-null    float64\n",
      " 20  Mean_Acc1298_Mean_Mem40_MFCC_11   592 non-null    float64\n",
      " 21  Mean_Acc1298_Mean_Mem40_MFCC_12   592 non-null    float64\n",
      " 22  Mean_Acc1298_Std_Mem40_Centroid   592 non-null    float64\n",
      " 23  Mean_Acc1298_Std_Mem40_Rolloff    592 non-null    float64\n",
      " 24  Mean_Acc1298_Std_Mem40_Flux       592 non-null    float64\n",
      " 25  Mean_Acc1298_Std_Mem40_MFCC_0     592 non-null    float64\n",
      " 26  Mean_Acc1298_Std_Mem40_MFCC_1     592 non-null    float64\n",
      " 27  Mean_Acc1298_Std_Mem40_MFCC_2     592 non-null    float64\n",
      " 28  Mean_Acc1298_Std_Mem40_MFCC_3     592 non-null    float64\n",
      " 29  Mean_Acc1298_Std_Mem40_MFCC_4     592 non-null    float64\n",
      " 30  Mean_Acc1298_Std_Mem40_MFCC_5     592 non-null    float64\n",
      " 31  Mean_Acc1298_Std_Mem40_MFCC_6     592 non-null    float64\n",
      " 32  Mean_Acc1298_Std_Mem40_MFCC_7     592 non-null    float64\n",
      " 33  Mean_Acc1298_Std_Mem40_MFCC_8     592 non-null    float64\n",
      " 34  Mean_Acc1298_Std_Mem40_MFCC_9     592 non-null    float64\n",
      " 35  Mean_Acc1298_Std_Mem40_MFCC_10    592 non-null    float64\n",
      " 36  Mean_Acc1298_Std_Mem40_MFCC_11    592 non-null    float64\n",
      " 37  Mean_Acc1298_Std_Mem40_MFCC_12    592 non-null    float64\n",
      " 38  Std_Acc1298_Mean_Mem40_Centroid   592 non-null    float64\n",
      " 39  Std_Acc1298_Mean_Mem40_Rolloff    592 non-null    float64\n",
      " 40  Std_Acc1298_Mean_Mem40_Flux       592 non-null    float64\n",
      " 41  Std_Acc1298_Mean_Mem40_MFCC_0     592 non-null    float64\n",
      " 42  Std_Acc1298_Mean_Mem40_MFCC_1     592 non-null    float64\n",
      " 43  Std_Acc1298_Mean_Mem40_MFCC_2     592 non-null    float64\n",
      " 44  Std_Acc1298_Mean_Mem40_MFCC_3     592 non-null    float64\n",
      " 45  Std_Acc1298_Mean_Mem40_MFCC_4     592 non-null    float64\n",
      " 46  Std_Acc1298_Mean_Mem40_MFCC_5     592 non-null    float64\n",
      " 47  Std_Acc1298_Mean_Mem40_MFCC_6     592 non-null    float64\n",
      " 48  Std_Acc1298_Mean_Mem40_MFCC_7     592 non-null    float64\n",
      " 49  Std_Acc1298_Mean_Mem40_MFCC_8     592 non-null    float64\n",
      " 50  Std_Acc1298_Mean_Mem40_MFCC_9     592 non-null    float64\n",
      " 51  Std_Acc1298_Mean_Mem40_MFCC_10    592 non-null    float64\n",
      " 52  Std_Acc1298_Mean_Mem40_MFCC_11    592 non-null    float64\n",
      " 53  Std_Acc1298_Mean_Mem40_MFCC_12    592 non-null    float64\n",
      " 54  Std_Acc1298_Std_Mem40_Centroid    592 non-null    float64\n",
      " 55  Std_Acc1298_Std_Mem40_Rolloff     592 non-null    float64\n",
      " 56  Std_Acc1298_Std_Mem40_Flux        592 non-null    float64\n",
      " 57  Std_Acc1298_Std_Mem40_MFCC_0      592 non-null    float64\n",
      " 58  Std_Acc1298_Std_Mem40_MFCC_1      592 non-null    float64\n",
      " 59  Std_Acc1298_Std_Mem40_MFCC_2      592 non-null    float64\n",
      " 60  Std_Acc1298_Std_Mem40_MFCC_3      592 non-null    float64\n",
      " 61  Std_Acc1298_Std_Mem40_MFCC_4      592 non-null    float64\n",
      " 62  Std_Acc1298_Std_Mem40_MFCC_5      592 non-null    float64\n",
      " 63  Std_Acc1298_Std_Mem40_MFCC_6      592 non-null    float64\n",
      " 64  Std_Acc1298_Std_Mem40_MFCC_7      592 non-null    float64\n",
      " 65  Std_Acc1298_Std_Mem40_MFCC_8      592 non-null    float64\n",
      " 66  Std_Acc1298_Std_Mem40_MFCC_9      592 non-null    float64\n",
      " 67  Std_Acc1298_Std_Mem40_MFCC_10     592 non-null    float64\n",
      " 68  Std_Acc1298_Std_Mem40_MFCC_11     592 non-null    float64\n",
      " 69  Std_Acc1298_Std_Mem40_MFCC_12     592 non-null    float64\n",
      " 70  BH_LowPeakAmp                     592 non-null    float64\n",
      " 71  BH_LowPeakBPM                     592 non-null    float64\n",
      " 72  BH_HighPeakAmp                    592 non-null    float64\n",
      " 73  BH_HighPeakBPM                    592 non-null    float64\n",
      " 74  BHSUM1                            592 non-null    float64\n",
      " 75  BHSUM2                            592 non-null    float64\n",
      " 76  BHSUM3                            592 non-null    float64\n",
      "dtypes: float64(71), int64(6)\n",
      "memory usage: 356.2 KB\n"
     ]
    }
   ],
   "source": [
    "musica = pd.read_csv('/Users/samuelhericlis/Desktop/IBM/cursos/formacao_cientista_de_dados_II_topicos_avançados/CIENTISTADADOS2/Dados/10.MultiLabel/Musica.csv', sep=\",\")\n",
    "display(musica.head(3))\n",
    "musica.info()"
   ]
  },
  {
   "cell_type": "code",
   "execution_count": 40,
   "metadata": {},
   "outputs": [
    {
     "data": {
      "text/plain": [
       "array([[0, 1, 1, 0, 0, 0],\n",
       "       [1, 0, 0, 0, 0, 1],\n",
       "       [0, 1, 0, 0, 0, 1],\n",
       "       ...,\n",
       "       [0, 0, 1, 1, 1, 0],\n",
       "       [0, 1, 1, 0, 0, 0],\n",
       "       [0, 1, 0, 0, 0, 0]])"
      ]
     },
     "execution_count": 40,
     "metadata": {},
     "output_type": "execute_result"
    }
   ],
   "source": [
    "#separação da classe e previsores\n",
    "classe = musica.iloc[:,0:6].values\n",
    "previsores = musica.iloc[:,7:78].values\n",
    "classe"
   ]
  },
  {
   "cell_type": "markdown",
   "metadata": {},
   "source": [
    "# Divisão dos dados"
   ]
  },
  {
   "cell_type": "code",
   "execution_count": 41,
   "metadata": {},
   "outputs": [],
   "source": [
    "#divisão de treino e teste\n",
    "X_treinamento, X_teste, y_treinamento, y_teste = train_test_split(previsores,classe,test_size = 0.3,\n",
    "                                                                  random_state = 0)"
   ]
  },
  {
   "cell_type": "markdown",
   "metadata": {},
   "source": [
    "# Técnicas de adaptação de dados"
   ]
  },
  {
   "cell_type": "markdown",
   "metadata": {},
   "source": [
    "## MLkNN"
   ]
  },
  {
   "cell_type": "markdown",
   "metadata": {},
   "source": [
    "Um tipo de classificador multilabel."
   ]
  },
  {
   "cell_type": "code",
   "execution_count": 42,
   "metadata": {},
   "outputs": [],
   "source": [
    "# #adaptado\n",
    "# #vizinho mais próximo para ML\n",
    "# vmp = MLkNN(k=3) \n",
    "# vmp.fit(X_treinamento, y_treinamento) "
   ]
  },
  {
   "cell_type": "code",
   "execution_count": 43,
   "metadata": {},
   "outputs": [],
   "source": [
    "# #previsão com dados de teste\n",
    "# previsto = vmp.predict(X_teste) \n",
    "# #hamming para avaliar preformance  \n",
    "# print(hamming_loss(y_teste, previsto)) "
   ]
  },
  {
   "cell_type": "markdown",
   "metadata": {},
   "source": [
    "## MLRAM"
   ]
  },
  {
   "cell_type": "code",
   "execution_count": 44,
   "metadata": {},
   "outputs": [
    {
     "data": {
      "text/html": [
       "<style>#sk-container-id-4 {color: black;background-color: white;}#sk-container-id-4 pre{padding: 0;}#sk-container-id-4 div.sk-toggleable {background-color: white;}#sk-container-id-4 label.sk-toggleable__label {cursor: pointer;display: block;width: 100%;margin-bottom: 0;padding: 0.3em;box-sizing: border-box;text-align: center;}#sk-container-id-4 label.sk-toggleable__label-arrow:before {content: \"▸\";float: left;margin-right: 0.25em;color: #696969;}#sk-container-id-4 label.sk-toggleable__label-arrow:hover:before {color: black;}#sk-container-id-4 div.sk-estimator:hover label.sk-toggleable__label-arrow:before {color: black;}#sk-container-id-4 div.sk-toggleable__content {max-height: 0;max-width: 0;overflow: hidden;text-align: left;background-color: #f0f8ff;}#sk-container-id-4 div.sk-toggleable__content pre {margin: 0.2em;color: black;border-radius: 0.25em;background-color: #f0f8ff;}#sk-container-id-4 input.sk-toggleable__control:checked~div.sk-toggleable__content {max-height: 200px;max-width: 100%;overflow: auto;}#sk-container-id-4 input.sk-toggleable__control:checked~label.sk-toggleable__label-arrow:before {content: \"▾\";}#sk-container-id-4 div.sk-estimator input.sk-toggleable__control:checked~label.sk-toggleable__label {background-color: #d4ebff;}#sk-container-id-4 div.sk-label input.sk-toggleable__control:checked~label.sk-toggleable__label {background-color: #d4ebff;}#sk-container-id-4 input.sk-hidden--visually {border: 0;clip: rect(1px 1px 1px 1px);clip: rect(1px, 1px, 1px, 1px);height: 1px;margin: -1px;overflow: hidden;padding: 0;position: absolute;width: 1px;}#sk-container-id-4 div.sk-estimator {font-family: monospace;background-color: #f0f8ff;border: 1px dotted black;border-radius: 0.25em;box-sizing: border-box;margin-bottom: 0.5em;}#sk-container-id-4 div.sk-estimator:hover {background-color: #d4ebff;}#sk-container-id-4 div.sk-parallel-item::after {content: \"\";width: 100%;border-bottom: 1px solid gray;flex-grow: 1;}#sk-container-id-4 div.sk-label:hover label.sk-toggleable__label {background-color: #d4ebff;}#sk-container-id-4 div.sk-serial::before {content: \"\";position: absolute;border-left: 1px solid gray;box-sizing: border-box;top: 0;bottom: 0;left: 50%;z-index: 0;}#sk-container-id-4 div.sk-serial {display: flex;flex-direction: column;align-items: center;background-color: white;padding-right: 0.2em;padding-left: 0.2em;position: relative;}#sk-container-id-4 div.sk-item {position: relative;z-index: 1;}#sk-container-id-4 div.sk-parallel {display: flex;align-items: stretch;justify-content: center;background-color: white;position: relative;}#sk-container-id-4 div.sk-item::before, #sk-container-id-4 div.sk-parallel-item::before {content: \"\";position: absolute;border-left: 1px solid gray;box-sizing: border-box;top: 0;bottom: 0;left: 50%;z-index: -1;}#sk-container-id-4 div.sk-parallel-item {display: flex;flex-direction: column;z-index: 1;position: relative;background-color: white;}#sk-container-id-4 div.sk-parallel-item:first-child::after {align-self: flex-end;width: 50%;}#sk-container-id-4 div.sk-parallel-item:last-child::after {align-self: flex-start;width: 50%;}#sk-container-id-4 div.sk-parallel-item:only-child::after {width: 0;}#sk-container-id-4 div.sk-dashed-wrapped {border: 1px dashed gray;margin: 0 0.4em 0.5em 0.4em;box-sizing: border-box;padding-bottom: 0.4em;background-color: white;}#sk-container-id-4 div.sk-label label {font-family: monospace;font-weight: bold;display: inline-block;line-height: 1.2em;}#sk-container-id-4 div.sk-label-container {text-align: center;}#sk-container-id-4 div.sk-container {/* jupyter's `normalize.less` sets `[hidden] { display: none; }` but bootstrap.min.css set `[hidden] { display: none !important; }` so we also need the `!important` here to be able to override the default hidden behavior on the sphinx rendered scikit-learn.org. See: https://github.com/scikit-learn/scikit-learn/issues/21755 */display: inline-block !important;position: relative;}#sk-container-id-4 div.sk-text-repr-fallback {display: none;}</style><div id=\"sk-container-id-4\" class=\"sk-top-container\"><div class=\"sk-text-repr-fallback\"><pre>MLARAM(neurons=[&lt;skmultilearn.adapt.mlaram.Neuron object at 0x1764f6700&gt;,\n",
       "                &lt;skmultilearn.adapt.mlaram.Neuron object at 0x108822d90&gt;,\n",
       "                &lt;skmultilearn.adapt.mlaram.Neuron object at 0x17ed15df0&gt;,\n",
       "                &lt;skmultilearn.adapt.mlaram.Neuron object at 0x1764edfd0&gt;,\n",
       "                &lt;skmultilearn.adapt.mlaram.Neuron object at 0x1764ed730&gt;,\n",
       "                &lt;skmultilearn.adapt.mlaram.Neuron object at 0x1764f9820&gt;,\n",
       "                &lt;skmultile...\n",
       "                &lt;skmultilearn.adapt.mlaram.Neuron object at 0x1764f9b20&gt;,\n",
       "                &lt;skmultilearn.adapt.mlaram.Neuron object at 0x1764ff040&gt;,\n",
       "                &lt;skmultilearn.adapt.mlaram.Neuron object at 0x1764ff0a0&gt;,\n",
       "                &lt;skmultilearn.adapt.mlaram.Neuron object at 0x1764ff130&gt;,\n",
       "                &lt;skmultilearn.adapt.mlaram.Neuron object at 0x1764ff100&gt;,\n",
       "                &lt;skmultilearn.adapt.mlaram.Neuron object at 0x1764ff1c0&gt;,\n",
       "                &lt;skmultilearn.adapt.mlaram.Neuron object at 0x1764ff250&gt;, ...])</pre><b>In a Jupyter environment, please rerun this cell to show the HTML representation or trust the notebook. <br />On GitHub, the HTML representation is unable to render, please try loading this page with nbviewer.org.</b></div><div class=\"sk-container\" hidden><div class=\"sk-item\"><div class=\"sk-estimator sk-toggleable\"><input class=\"sk-toggleable__control sk-hidden--visually\" id=\"sk-estimator-id-4\" type=\"checkbox\" checked><label for=\"sk-estimator-id-4\" class=\"sk-toggleable__label sk-toggleable__label-arrow\">MLARAM</label><div class=\"sk-toggleable__content\"><pre>MLARAM(neurons=[&lt;skmultilearn.adapt.mlaram.Neuron object at 0x1764f6700&gt;,\n",
       "                &lt;skmultilearn.adapt.mlaram.Neuron object at 0x108822d90&gt;,\n",
       "                &lt;skmultilearn.adapt.mlaram.Neuron object at 0x17ed15df0&gt;,\n",
       "                &lt;skmultilearn.adapt.mlaram.Neuron object at 0x1764edfd0&gt;,\n",
       "                &lt;skmultilearn.adapt.mlaram.Neuron object at 0x1764ed730&gt;,\n",
       "                &lt;skmultilearn.adapt.mlaram.Neuron object at 0x1764f9820&gt;,\n",
       "                &lt;skmultile...\n",
       "                &lt;skmultilearn.adapt.mlaram.Neuron object at 0x1764f9b20&gt;,\n",
       "                &lt;skmultilearn.adapt.mlaram.Neuron object at 0x1764ff040&gt;,\n",
       "                &lt;skmultilearn.adapt.mlaram.Neuron object at 0x1764ff0a0&gt;,\n",
       "                &lt;skmultilearn.adapt.mlaram.Neuron object at 0x1764ff130&gt;,\n",
       "                &lt;skmultilearn.adapt.mlaram.Neuron object at 0x1764ff100&gt;,\n",
       "                &lt;skmultilearn.adapt.mlaram.Neuron object at 0x1764ff1c0&gt;,\n",
       "                &lt;skmultilearn.adapt.mlaram.Neuron object at 0x1764ff250&gt;, ...])</pre></div></div></div></div></div>"
      ],
      "text/plain": [
       "MLARAM(neurons=[<skmultilearn.adapt.mlaram.Neuron object at 0x1764f6700>,\n",
       "                <skmultilearn.adapt.mlaram.Neuron object at 0x108822d90>,\n",
       "                <skmultilearn.adapt.mlaram.Neuron object at 0x17ed15df0>,\n",
       "                <skmultilearn.adapt.mlaram.Neuron object at 0x1764edfd0>,\n",
       "                <skmultilearn.adapt.mlaram.Neuron object at 0x1764ed730>,\n",
       "                <skmultilearn.adapt.mlaram.Neuron object at 0x1764f9820>,\n",
       "                <skmultile...\n",
       "                <skmultilearn.adapt.mlaram.Neuron object at 0x1764f9b20>,\n",
       "                <skmultilearn.adapt.mlaram.Neuron object at 0x1764ff040>,\n",
       "                <skmultilearn.adapt.mlaram.Neuron object at 0x1764ff0a0>,\n",
       "                <skmultilearn.adapt.mlaram.Neuron object at 0x1764ff130>,\n",
       "                <skmultilearn.adapt.mlaram.Neuron object at 0x1764ff100>,\n",
       "                <skmultilearn.adapt.mlaram.Neuron object at 0x1764ff1c0>,\n",
       "                <skmultilearn.adapt.mlaram.Neuron object at 0x1764ff250>, ...])"
      ]
     },
     "execution_count": 44,
     "metadata": {},
     "output_type": "execute_result"
    }
   ],
   "source": [
    "#segundo classificador adaptado, Hierarquical ARAM NN\n",
    "ann = MLARAM()\n",
    "ann.fit(X_treinamento, y_treinamento) "
   ]
  },
  {
   "cell_type": "code",
   "execution_count": 45,
   "metadata": {},
   "outputs": [
    {
     "name": "stdout",
     "output_type": "stream",
     "text": [
      "0.24906367041198502\n"
     ]
    }
   ],
   "source": [
    "#previsão com dados de teste\n",
    "previsto = ann.predict(X_teste) \n",
    "#hamming para avaliar preformance  \n",
    "print(hamming_loss(y_teste, previsto)) "
   ]
  },
  {
   "cell_type": "markdown",
   "metadata": {},
   "source": [
    "# Técnicas de transformação de problema"
   ]
  },
  {
   "cell_type": "markdown",
   "metadata": {},
   "source": [
    "Transforma os dados para um problema de classificação tradicional."
   ]
  },
  {
   "cell_type": "markdown",
   "metadata": {},
   "source": [
    "## BinaryRelevance"
   ]
  },
  {
   "cell_type": "code",
   "execution_count": 46,
   "metadata": {},
   "outputs": [
    {
     "name": "stdout",
     "output_type": "stream",
     "text": [
      "0.199438202247191\n"
     ]
    }
   ],
   "source": [
    "binary = BinaryRelevance(classifier = SVC())\n",
    "binary.fit(X_treinamento, y_treinamento)\n",
    "previsao = binary.predict(X_teste)\n",
    "print(hamming_loss(y_teste, previsao))"
   ]
  },
  {
   "cell_type": "markdown",
   "metadata": {},
   "source": [
    "## ClassificerChain"
   ]
  },
  {
   "cell_type": "code",
   "execution_count": 47,
   "metadata": {},
   "outputs": [
    {
     "name": "stdout",
     "output_type": "stream",
     "text": [
      "0.2340823970037453\n"
     ]
    }
   ],
   "source": [
    "chain = ClassifierChain(classifier = SVC())\n",
    "chain.fit(X_treinamento, y_treinamento)\n",
    "previsoes = chain.predict(X_teste)\n",
    "print(hamming_loss(y_teste,previsoes))"
   ]
  },
  {
   "cell_type": "markdown",
   "metadata": {},
   "source": [
    "## LabelPowerset"
   ]
  },
  {
   "cell_type": "code",
   "execution_count": 48,
   "metadata": {},
   "outputs": [
    {
     "name": "stdout",
     "output_type": "stream",
     "text": [
      "0.2209737827715356\n"
     ]
    }
   ],
   "source": [
    "label = LabelPowerset(classifier = SVC())\n",
    "label.fit(X_treinamento, y_treinamento)\n",
    "previsoes = label.predict(X_teste)\n",
    "print(hamming_loss(y_teste,previsoes))"
   ]
  },
  {
   "cell_type": "markdown",
   "metadata": {},
   "source": [
    "Melhor, foi o Binary Relevance, usando o hamming Loss.\n",
    "\n",
    "Então, a biblioteca sklearn multilearn tem todos os modelos para tratar este tipo de problema, além disso, a sklearn learn tradicional já tem a métrica hamming loss para metrificar estes tipos de problemas.\n"
   ]
  }
 ],
 "metadata": {
  "kernelspec": {
   "display_name": "Python 3.9.13 64-bit",
   "language": "python",
   "name": "python3"
  },
  "language_info": {
   "codemirror_mode": {
    "name": "ipython",
    "version": 3
   },
   "file_extension": ".py",
   "mimetype": "text/x-python",
   "name": "python",
   "nbconvert_exporter": "python",
   "pygments_lexer": "ipython3",
   "version": "3.9.13"
  },
  "vscode": {
   "interpreter": {
    "hash": "b0fa6594d8f4cbf19f97940f81e996739fb7646882a419484c72d19e05852a7e"
   }
  }
 },
 "nbformat": 4,
 "nbformat_minor": 4
}
