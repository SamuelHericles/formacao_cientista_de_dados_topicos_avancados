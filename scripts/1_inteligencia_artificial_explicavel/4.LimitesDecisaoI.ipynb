{
 "cells": [
  {
   "cell_type": "markdown",
   "metadata": {},
   "source": [
    "Formação Cientista de Dados II  - Limites de Decisão\n",
    "Prof. Fernando Amaral"
   ]
  },
  {
   "cell_type": "code",
   "execution_count": 10,
   "metadata": {},
   "outputs": [
    {
     "name": "stdout",
     "output_type": "stream",
     "text": [
      "\u001b[33mDEPRECATION: Configuring installation scheme with distutils config files is deprecated and will no longer work in the near future. If you are using a Homebrew or Linuxbrew Python, please see discussion at https://github.com/Homebrew/homebrew-core/issues/76621\u001b[0m\u001b[33m\n",
      "\u001b[0mRequirement already satisfied: mlxtend in /opt/homebrew/lib/python3.9/site-packages (0.20.0)\n",
      "Requirement already satisfied: scikit-learn>=1.0.2 in /opt/homebrew/lib/python3.9/site-packages (from mlxtend) (1.0.2)\n",
      "Requirement already satisfied: matplotlib>=3.0.0 in /opt/homebrew/lib/python3.9/site-packages (from mlxtend) (3.5.1)\n",
      "Requirement already satisfied: pandas>=0.24.2 in /opt/homebrew/lib/python3.9/site-packages (from mlxtend) (1.4.1)\n",
      "Requirement already satisfied: numpy>=1.16.2 in /opt/homebrew/lib/python3.9/site-packages (from mlxtend) (1.22.3)\n",
      "Requirement already satisfied: joblib>=0.13.2 in /opt/homebrew/lib/python3.9/site-packages (from mlxtend) (1.1.0)\n",
      "Requirement already satisfied: setuptools in /opt/homebrew/lib/python3.9/site-packages (from mlxtend) (62.3.2)\n",
      "Requirement already satisfied: scipy>=1.2.1 in /opt/homebrew/lib/python3.9/site-packages (from mlxtend) (1.8.0)\n",
      "Requirement already satisfied: pillow>=6.2.0 in /opt/homebrew/lib/python3.9/site-packages (from matplotlib>=3.0.0->mlxtend) (9.0.1)\n",
      "Requirement already satisfied: fonttools>=4.22.0 in /opt/homebrew/lib/python3.9/site-packages (from matplotlib>=3.0.0->mlxtend) (4.31.2)\n",
      "Requirement already satisfied: python-dateutil>=2.7 in /opt/homebrew/lib/python3.9/site-packages (from matplotlib>=3.0.0->mlxtend) (2.8.2)\n",
      "Requirement already satisfied: packaging>=20.0 in /opt/homebrew/lib/python3.9/site-packages (from matplotlib>=3.0.0->mlxtend) (21.3)\n",
      "Requirement already satisfied: cycler>=0.10 in /opt/homebrew/lib/python3.9/site-packages (from matplotlib>=3.0.0->mlxtend) (0.11.0)\n",
      "Requirement already satisfied: pyparsing>=2.2.1 in /opt/homebrew/lib/python3.9/site-packages (from matplotlib>=3.0.0->mlxtend) (3.0.7)\n",
      "Requirement already satisfied: kiwisolver>=1.0.1 in /opt/homebrew/lib/python3.9/site-packages (from matplotlib>=3.0.0->mlxtend) (1.4.2)\n",
      "Requirement already satisfied: pytz>=2020.1 in /opt/homebrew/lib/python3.9/site-packages (from pandas>=0.24.2->mlxtend) (2022.1)\n",
      "Requirement already satisfied: threadpoolctl>=2.0.0 in /opt/homebrew/lib/python3.9/site-packages (from scikit-learn>=1.0.2->mlxtend) (3.1.0)\n",
      "Requirement already satisfied: six>=1.5 in /opt/homebrew/lib/python3.9/site-packages (from python-dateutil>=2.7->matplotlib>=3.0.0->mlxtend) (1.16.0)\n",
      "\u001b[33mDEPRECATION: Configuring installation scheme with distutils config files is deprecated and will no longer work in the near future. If you are using a Homebrew or Linuxbrew Python, please see discussion at https://github.com/Homebrew/homebrew-core/issues/76621\u001b[0m\u001b[33m\n",
      "\u001b[0m"
     ]
    }
   ],
   "source": [
    "!pip install mlxtend"
   ]
  },
  {
   "cell_type": "markdown",
   "metadata": {},
   "source": [
    "# Imports "
   ]
  },
  {
   "cell_type": "code",
   "execution_count": 11,
   "metadata": {},
   "outputs": [],
   "source": [
    "import numpy as np\n",
    "import pandas as pd\n",
    "\n",
    "import matplotlib.pyplot as plt\n",
    "\n",
    "from sklearn import linear_model  \n",
    "from mlxtend.plotting import plot_decision_regions"
   ]
  },
  {
   "cell_type": "markdown",
   "metadata": {},
   "source": [
    "# Carregar a base"
   ]
  },
  {
   "cell_type": "code",
   "execution_count": 12,
   "metadata": {},
   "outputs": [
    {
     "data": {
      "text/html": [
       "<div>\n",
       "<style scoped>\n",
       "    .dataframe tbody tr th:only-of-type {\n",
       "        vertical-align: middle;\n",
       "    }\n",
       "\n",
       "    .dataframe tbody tr th {\n",
       "        vertical-align: top;\n",
       "    }\n",
       "\n",
       "    .dataframe thead th {\n",
       "        text-align: right;\n",
       "    }\n",
       "</style>\n",
       "<table border=\"1\" class=\"dataframe\">\n",
       "  <thead>\n",
       "    <tr style=\"text-align: right;\">\n",
       "      <th></th>\n",
       "      <th>Consumo</th>\n",
       "      <th>Cilindros</th>\n",
       "      <th>Cilindradas</th>\n",
       "      <th>RelEixoTraseiro</th>\n",
       "      <th>Peso</th>\n",
       "      <th>Tempo</th>\n",
       "      <th>TipoMotor</th>\n",
       "      <th>Transmissao</th>\n",
       "      <th>Marchas</th>\n",
       "      <th>Carburadors</th>\n",
       "      <th>HP</th>\n",
       "    </tr>\n",
       "  </thead>\n",
       "  <tbody>\n",
       "    <tr>\n",
       "      <th>0</th>\n",
       "      <td>21</td>\n",
       "      <td>6</td>\n",
       "      <td>160</td>\n",
       "      <td>39</td>\n",
       "      <td>262</td>\n",
       "      <td>1646</td>\n",
       "      <td>0</td>\n",
       "      <td>1</td>\n",
       "      <td>4</td>\n",
       "      <td>4</td>\n",
       "      <td>110</td>\n",
       "    </tr>\n",
       "    <tr>\n",
       "      <th>1</th>\n",
       "      <td>21</td>\n",
       "      <td>6</td>\n",
       "      <td>160</td>\n",
       "      <td>39</td>\n",
       "      <td>2875</td>\n",
       "      <td>1702</td>\n",
       "      <td>0</td>\n",
       "      <td>1</td>\n",
       "      <td>4</td>\n",
       "      <td>4</td>\n",
       "      <td>110</td>\n",
       "    </tr>\n",
       "    <tr>\n",
       "      <th>2</th>\n",
       "      <td>228</td>\n",
       "      <td>4</td>\n",
       "      <td>108</td>\n",
       "      <td>385</td>\n",
       "      <td>232</td>\n",
       "      <td>1861</td>\n",
       "      <td>1</td>\n",
       "      <td>1</td>\n",
       "      <td>4</td>\n",
       "      <td>1</td>\n",
       "      <td>93</td>\n",
       "    </tr>\n",
       "  </tbody>\n",
       "</table>\n",
       "</div>"
      ],
      "text/plain": [
       "   Consumo  Cilindros  Cilindradas  RelEixoTraseiro  Peso  Tempo  TipoMotor  \\\n",
       "0       21          6          160               39   262   1646          0   \n",
       "1       21          6          160               39  2875   1702          0   \n",
       "2      228          4          108              385   232   1861          1   \n",
       "\n",
       "   Transmissao  Marchas  Carburadors   HP  \n",
       "0            1        4            4  110  \n",
       "1            1        4            4  110  \n",
       "2            1        4            1   93  "
      ]
     },
     "metadata": {},
     "output_type": "display_data"
    },
    {
     "name": "stdout",
     "output_type": "stream",
     "text": [
      "<class 'pandas.core.frame.DataFrame'>\n",
      "RangeIndex: 32 entries, 0 to 31\n",
      "Data columns (total 11 columns):\n",
      " #   Column           Non-Null Count  Dtype\n",
      "---  ------           --------------  -----\n",
      " 0   Consumo          32 non-null     int64\n",
      " 1   Cilindros        32 non-null     int64\n",
      " 2   Cilindradas      32 non-null     int64\n",
      " 3   RelEixoTraseiro  32 non-null     int64\n",
      " 4   Peso             32 non-null     int64\n",
      " 5   Tempo            32 non-null     int64\n",
      " 6   TipoMotor        32 non-null     int64\n",
      " 7   Transmissao      32 non-null     int64\n",
      " 8   Marchas          32 non-null     int64\n",
      " 9   Carburadors      32 non-null     int64\n",
      " 10  HP               32 non-null     int64\n",
      "dtypes: int64(11)\n",
      "memory usage: 2.9 KB\n"
     ]
    }
   ],
   "source": [
    "carros = pd.read_csv('/Users/samuelhericlis/Desktop/IBM/cursos/formacao_cientista_de_dados_II_topicos_avançados/CIENTISTADADOS2/Dados/1.Inteligencia Artificial Explicavel/carros.csv', sep=\";\")\n",
    "display(carros.head(3))\n",
    "carros.info()"
   ]
  },
  {
   "cell_type": "code",
   "execution_count": 13,
   "metadata": {},
   "outputs": [],
   "source": [
    "#converter para numpy\n",
    "carros = carros.to_numpy()"
   ]
  },
  {
   "cell_type": "markdown",
   "metadata": {},
   "source": [
    "# Treinamento do modelo"
   ]
  },
  {
   "cell_type": "code",
   "execution_count": 14,
   "metadata": {},
   "outputs": [
    {
     "name": "stdout",
     "output_type": "stream",
     "text": [
      "Variáveis dependentes: [[ 21   6]\n",
      " [ 21   6]\n",
      " [228   4]\n",
      " [214   6]\n",
      " [187   8]\n",
      " [181   6]\n",
      " [143   8]\n",
      " [244   4]\n",
      " [228   4]\n",
      " [192   6]\n",
      " [178   6]\n",
      " [164   8]\n",
      " [173   8]\n",
      " [152   8]\n",
      " [104   8]\n",
      " [104   8]\n",
      " [147   8]\n",
      " [324   4]\n",
      " [304   4]\n",
      " [339   4]\n",
      " [215   4]\n",
      " [155   8]\n",
      " [152   8]\n",
      " [133   8]\n",
      " [192   8]\n",
      " [273   4]\n",
      " [ 26   4]\n",
      " [304   4]\n",
      " [158   8]\n",
      " [197   6]\n",
      " [ 15   8]\n",
      " [214   4]]\n",
      "Variáveis independentes: [4 4 1 1 2 1 4 2 2 4 4 3 3 3 4 4 4 1 2 1 1 2 2 4 2 1 2 2 4 6 8 2]\n"
     ]
    }
   ],
   "source": [
    "#prevendo o número de carburadores\n",
    "y = carros[:,9]\n",
    "#consumo e cilindoros\n",
    "X = carros[:, 0:2]\n",
    "\n",
    "print(f'Variáveis dependentes: {X}')\n",
    "print(f'Variáveis independentes: {y}')"
   ]
  },
  {
   "cell_type": "code",
   "execution_count": 15,
   "metadata": {},
   "outputs": [
    {
     "data": {
      "text/plain": [
       "LinearRegression()"
      ]
     },
     "execution_count": 15,
     "metadata": {},
     "output_type": "execute_result"
    }
   ],
   "source": [
    "modelo =  linear_model.LinearRegression()\n",
    "modelo.fit(X, y)"
   ]
  },
  {
   "cell_type": "markdown",
   "metadata": {},
   "source": [
    "# Plotar os limites de descisão"
   ]
  },
  {
   "cell_type": "code",
   "execution_count": 16,
   "metadata": {},
   "outputs": [
    {
     "name": "stderr",
     "output_type": "stream",
     "text": [
      "/opt/homebrew/lib/python3.9/site-packages/mlxtend/plotting/decision_regions.py:300: UserWarning: You passed a edgecolor/edgecolors ('black') for an unfilled marker ('x').  Matplotlib is ignoring the edgecolor in favor of the facecolor.  This behavior may change in the future.\n",
      "  ax.scatter(\n"
     ]
    },
    {
     "data": {
      "image/png": "[encoded data removed]",
      "text/plain": [
       "<Figure size 432x288 with 1 Axes>"
      ]
     },
     "metadata": {
      "needs_background": "light"
     },
     "output_type": "display_data"
    }
   ],
   "source": [
    "fig = plot_decision_regions(X=X, y=y,clf=modelo)\n",
    "plt.legend(bbox_to_anchor=(1.04,1), loc=\"upper left\", ncol=2)\n",
    "plt.title('Limites de Decisão')\n",
    "plt.xlabel('Consumo')\n",
    "plt.ylabel('Cilindros')\n",
    "plt.show()"
   ]
  },
  {
   "cell_type": "markdown",
   "metadata": {},
   "source": [
    "Mesmo sendo um processo de regressão linear são valores inteiros, discretos. Se vermos de um modelo baseado em árvore podemos ver uma visão mais complexa."
   ]
  }
 ],
 "metadata": {
  "kernelspec": {
   "display_name": "Python 3.9.13 64-bit",
   "language": "python",
   "name": "python3"
  },
  "language_info": {
   "codemirror_mode": {
    "name": "ipython",
    "version": 3
   },
   "file_extension": ".py",
   "mimetype": "text/x-python",
   "name": "python",
   "nbconvert_exporter": "python",
   "pygments_lexer": "ipython3",
   "version": "3.9.13"
  },
  "vscode": {
   "interpreter": {
    "hash": "b0fa6594d8f4cbf19f97940f81e996739fb7646882a419484c72d19e05852a7e"
   }
  }
 },
 "nbformat": 4,
 "nbformat_minor": 4
}
