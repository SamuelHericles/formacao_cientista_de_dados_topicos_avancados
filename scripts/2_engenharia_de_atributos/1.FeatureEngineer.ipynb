{
 "cells": [
  {
   "cell_type": "markdown",
   "metadata": {},
   "source": [
    "Formação Cientista de Dados II - Prof. Fernando Amaral\n",
    "Engenharia de Atributos"
   ]
  },
  {
   "cell_type": "markdown",
   "metadata": {},
   "source": [
    "# Imports"
   ]
  },
  {
   "cell_type": "code",
   "execution_count": 4,
   "metadata": {},
   "outputs": [],
   "source": [
    "import pandas as pd\n",
    "\n",
    "from sklearn.ensemble import RandomForestClassifier\n",
    "from sklearn.model_selection import train_test_split\n",
    "from sklearn.metrics import confusion_matrix, accuracy_score\n",
    "from sklearn.preprocessing import LabelEncoder,  StandardScaler"
   ]
  },
  {
   "cell_type": "markdown",
   "metadata": {},
   "source": [
    "# Carregar as bases"
   ]
  },
  {
   "cell_type": "code",
   "execution_count": 5,
   "metadata": {},
   "outputs": [
    {
     "name": "stdout",
     "output_type": "stream",
     "text": [
      "(1000, 8)\n"
     ]
    },
    {
     "data": {
      "text/html": [
       "<div>\n",
       "<style scoped>\n",
       "    .dataframe tbody tr th:only-of-type {\n",
       "        vertical-align: middle;\n",
       "    }\n",
       "\n",
       "    .dataframe tbody tr th {\n",
       "        vertical-align: top;\n",
       "    }\n",
       "\n",
       "    .dataframe thead th {\n",
       "        text-align: right;\n",
       "    }\n",
       "</style>\n",
       "<table border=\"1\" class=\"dataframe\">\n",
       "  <thead>\n",
       "    <tr style=\"text-align: right;\">\n",
       "      <th></th>\n",
       "      <th>SALDO_ATUAL</th>\n",
       "      <th>RESIDENCIADESDE</th>\n",
       "      <th>IDADE</th>\n",
       "      <th>OUTROSPLANOSPGTO</th>\n",
       "      <th>DATA</th>\n",
       "      <th>ESTADOCIVIL</th>\n",
       "      <th>PROPOSITO</th>\n",
       "      <th>CLASSE</th>\n",
       "    </tr>\n",
       "  </thead>\n",
       "  <tbody>\n",
       "    <tr>\n",
       "      <th>0</th>\n",
       "      <td>1169.0</td>\n",
       "      <td>4</td>\n",
       "      <td>67</td>\n",
       "      <td>nenhum</td>\n",
       "      <td>01/01/2019</td>\n",
       "      <td>masculino solteiro</td>\n",
       "      <td>radio/tv</td>\n",
       "      <td>bom</td>\n",
       "    </tr>\n",
       "    <tr>\n",
       "      <th>1</th>\n",
       "      <td>5951.0</td>\n",
       "      <td>2</td>\n",
       "      <td>22</td>\n",
       "      <td>nenhum</td>\n",
       "      <td>01/01/2020</td>\n",
       "      <td>fem div/cas</td>\n",
       "      <td>radio/tv</td>\n",
       "      <td>ruim</td>\n",
       "    </tr>\n",
       "    <tr>\n",
       "      <th>2</th>\n",
       "      <td>2096.0</td>\n",
       "      <td>3</td>\n",
       "      <td>49</td>\n",
       "      <td>nenhum</td>\n",
       "      <td>02/01/2020</td>\n",
       "      <td>masculino solteiro</td>\n",
       "      <td>educação</td>\n",
       "      <td>bom</td>\n",
       "    </tr>\n",
       "  </tbody>\n",
       "</table>\n",
       "</div>"
      ],
      "text/plain": [
       "   SALDO_ATUAL  RESIDENCIADESDE  IDADE OUTROSPLANOSPGTO        DATA  \\\n",
       "0       1169.0                4     67           nenhum  01/01/2019   \n",
       "1       5951.0                2     22           nenhum  01/01/2020   \n",
       "2       2096.0                3     49           nenhum  02/01/2020   \n",
       "\n",
       "          ESTADOCIVIL PROPOSITO CLASSE  \n",
       "0  masculino solteiro  radio/tv    bom  \n",
       "1         fem div/cas  radio/tv   ruim  \n",
       "2  masculino solteiro  educação    bom  "
      ]
     },
     "execution_count": 5,
     "metadata": {},
     "output_type": "execute_result"
    }
   ],
   "source": [
    "dataset = pd.read_csv(\"/Users/samuelhericlis/Desktop/IBM/cursos/formacao_cientista_de_dados_II_topicos_avançados/CIENTISTADADOS2/Dados/2.Engenharia de Atributos/credito4.csv\", sep=\";\")\n",
    "#visulizar\n",
    "print(dataset.shape)\n",
    "dataset.head(3)"
   ]
  },
  {
   "cell_type": "markdown",
   "metadata": {},
   "source": [
    "# Tratamento da base"
   ]
  },
  {
   "cell_type": "markdown",
   "metadata": {},
   "source": [
    "Tratamento de valores faltantes"
   ]
  },
  {
   "cell_type": "code",
   "execution_count": 33,
   "metadata": {},
   "outputs": [
    {
     "data": {
      "text/html": [
       "<div>\n",
       "<style scoped>\n",
       "    .dataframe tbody tr th:only-of-type {\n",
       "        vertical-align: middle;\n",
       "    }\n",
       "\n",
       "    .dataframe tbody tr th {\n",
       "        vertical-align: top;\n",
       "    }\n",
       "\n",
       "    .dataframe thead th {\n",
       "        text-align: right;\n",
       "    }\n",
       "</style>\n",
       "<table border=\"1\" class=\"dataframe\">\n",
       "  <thead>\n",
       "    <tr style=\"text-align: right;\">\n",
       "      <th></th>\n",
       "      <th>0</th>\n",
       "    </tr>\n",
       "  </thead>\n",
       "  <tbody>\n",
       "    <tr>\n",
       "      <th>SALDO_ATUAL</th>\n",
       "      <td>7</td>\n",
       "    </tr>\n",
       "    <tr>\n",
       "      <th>RESIDENCIADESDE</th>\n",
       "      <td>0</td>\n",
       "    </tr>\n",
       "    <tr>\n",
       "      <th>IDADE</th>\n",
       "      <td>0</td>\n",
       "    </tr>\n",
       "    <tr>\n",
       "      <th>OUTROSPLANOSPGTO</th>\n",
       "      <td>0</td>\n",
       "    </tr>\n",
       "    <tr>\n",
       "      <th>DATA</th>\n",
       "      <td>0</td>\n",
       "    </tr>\n",
       "    <tr>\n",
       "      <th>ESTADOCIVIL</th>\n",
       "      <td>8</td>\n",
       "    </tr>\n",
       "    <tr>\n",
       "      <th>PROPOSITO</th>\n",
       "      <td>0</td>\n",
       "    </tr>\n",
       "  </tbody>\n",
       "</table>\n",
       "</div>"
      ],
      "text/plain": [
       "                  0\n",
       "SALDO_ATUAL       7\n",
       "RESIDENCIADESDE   0\n",
       "IDADE             0\n",
       "OUTROSPLANOSPGTO  0\n",
       "DATA              0\n",
       "ESTADOCIVIL       8\n",
       "PROPOSITO         0"
      ]
     },
     "execution_count": 33,
     "metadata": {},
     "output_type": "execute_result"
    }
   ],
   "source": [
    "#separamos x de y\n",
    "y = dataset['CLASSE']\n",
    "X = dataset.iloc[:,0:7]\n",
    "X.isnull().sum().to_frame()"
   ]
  },
  {
   "cell_type": "markdown",
   "metadata": {},
   "source": [
    "Iremos mudar o valor para a mediana, mas perceba que isto é para o modelo generalizar melhor. Em uma tabela que será para outro propósito, isto não dever ser feito."
   ]
  },
  {
   "cell_type": "code",
   "execution_count": 34,
   "metadata": {},
   "outputs": [
    {
     "data": {
      "text/plain": [
       "2323.0"
      ]
     },
     "execution_count": 34,
     "metadata": {},
     "output_type": "execute_result"
    }
   ],
   "source": [
    "# Preenchendo o saldo atual pela mediana\n",
    "mediana = X['SALDO_ATUAL'].median()\n",
    "mediana"
   ]
  },
  {
   "cell_type": "code",
   "execution_count": 36,
   "metadata": {},
   "outputs": [
    {
     "data": {
      "text/html": [
       "<div>\n",
       "<style scoped>\n",
       "    .dataframe tbody tr th:only-of-type {\n",
       "        vertical-align: middle;\n",
       "    }\n",
       "\n",
       "    .dataframe tbody tr th {\n",
       "        vertical-align: top;\n",
       "    }\n",
       "\n",
       "    .dataframe thead th {\n",
       "        text-align: right;\n",
       "    }\n",
       "</style>\n",
       "<table border=\"1\" class=\"dataframe\">\n",
       "  <thead>\n",
       "    <tr style=\"text-align: right;\">\n",
       "      <th></th>\n",
       "      <th>0</th>\n",
       "    </tr>\n",
       "  </thead>\n",
       "  <tbody>\n",
       "    <tr>\n",
       "      <th>SALDO_ATUAL</th>\n",
       "      <td>0</td>\n",
       "    </tr>\n",
       "    <tr>\n",
       "      <th>RESIDENCIADESDE</th>\n",
       "      <td>0</td>\n",
       "    </tr>\n",
       "    <tr>\n",
       "      <th>IDADE</th>\n",
       "      <td>0</td>\n",
       "    </tr>\n",
       "    <tr>\n",
       "      <th>OUTROSPLANOSPGTO</th>\n",
       "      <td>0</td>\n",
       "    </tr>\n",
       "    <tr>\n",
       "      <th>DATA</th>\n",
       "      <td>0</td>\n",
       "    </tr>\n",
       "    <tr>\n",
       "      <th>ESTADOCIVIL</th>\n",
       "      <td>8</td>\n",
       "    </tr>\n",
       "    <tr>\n",
       "      <th>PROPOSITO</th>\n",
       "      <td>0</td>\n",
       "    </tr>\n",
       "  </tbody>\n",
       "</table>\n",
       "</div>"
      ],
      "text/plain": [
       "                  0\n",
       "SALDO_ATUAL       0\n",
       "RESIDENCIADESDE   0\n",
       "IDADE             0\n",
       "OUTROSPLANOSPGTO  0\n",
       "DATA              0\n",
       "ESTADOCIVIL       8\n",
       "PROPOSITO         0"
      ]
     },
     "execution_count": 36,
     "metadata": {},
     "output_type": "execute_result"
    }
   ],
   "source": [
    "X['SALDO_ATUAL'].fillna(mediana, inplace=True)\n",
    "\n",
    "# Checa resultado\n",
    "X.isnull().sum().to_frame()"
   ]
  },
  {
   "cell_type": "code",
   "execution_count": 37,
   "metadata": {},
   "outputs": [
    {
     "data": {
      "text/html": [
       "<div>\n",
       "<style scoped>\n",
       "    .dataframe tbody tr th:only-of-type {\n",
       "        vertical-align: middle;\n",
       "    }\n",
       "\n",
       "    .dataframe tbody tr th {\n",
       "        vertical-align: top;\n",
       "    }\n",
       "\n",
       "    .dataframe thead th {\n",
       "        text-align: right;\n",
       "    }\n",
       "</style>\n",
       "<table border=\"1\" class=\"dataframe\">\n",
       "  <thead>\n",
       "    <tr style=\"text-align: right;\">\n",
       "      <th></th>\n",
       "      <th>0</th>\n",
       "    </tr>\n",
       "    <tr>\n",
       "      <th>ESTADOCIVIL</th>\n",
       "      <th></th>\n",
       "    </tr>\n",
       "  </thead>\n",
       "  <tbody>\n",
       "    <tr>\n",
       "      <th>fem div/cas</th>\n",
       "      <td>308</td>\n",
       "    </tr>\n",
       "    <tr>\n",
       "      <th>masculino casado/viuvo</th>\n",
       "      <td>92</td>\n",
       "    </tr>\n",
       "    <tr>\n",
       "      <th>masculino div/sep</th>\n",
       "      <td>50</td>\n",
       "    </tr>\n",
       "    <tr>\n",
       "      <th>masculino solteiro</th>\n",
       "      <td>542</td>\n",
       "    </tr>\n",
       "  </tbody>\n",
       "</table>\n",
       "</div>"
      ],
      "text/plain": [
       "                          0\n",
       "ESTADOCIVIL                \n",
       "fem div/cas             308\n",
       "masculino casado/viuvo   92\n",
       "masculino div/sep        50\n",
       "masculino solteiro      542"
      ]
     },
     "execution_count": 37,
     "metadata": {},
     "output_type": "execute_result"
    }
   ],
   "source": [
    "# Verifica qual a \"moda\" do estado civil\n",
    "agrupado = X.groupby(['ESTADOCIVIL']).size()\n",
    "agrupado.to_frame()"
   ]
  },
  {
   "cell_type": "code",
   "execution_count": 38,
   "metadata": {},
   "outputs": [
    {
     "data": {
      "text/html": [
       "<div>\n",
       "<style scoped>\n",
       "    .dataframe tbody tr th:only-of-type {\n",
       "        vertical-align: middle;\n",
       "    }\n",
       "\n",
       "    .dataframe tbody tr th {\n",
       "        vertical-align: top;\n",
       "    }\n",
       "\n",
       "    .dataframe thead th {\n",
       "        text-align: right;\n",
       "    }\n",
       "</style>\n",
       "<table border=\"1\" class=\"dataframe\">\n",
       "  <thead>\n",
       "    <tr style=\"text-align: right;\">\n",
       "      <th></th>\n",
       "      <th>0</th>\n",
       "    </tr>\n",
       "  </thead>\n",
       "  <tbody>\n",
       "    <tr>\n",
       "      <th>SALDO_ATUAL</th>\n",
       "      <td>0</td>\n",
       "    </tr>\n",
       "    <tr>\n",
       "      <th>RESIDENCIADESDE</th>\n",
       "      <td>0</td>\n",
       "    </tr>\n",
       "    <tr>\n",
       "      <th>IDADE</th>\n",
       "      <td>0</td>\n",
       "    </tr>\n",
       "    <tr>\n",
       "      <th>OUTROSPLANOSPGTO</th>\n",
       "      <td>0</td>\n",
       "    </tr>\n",
       "    <tr>\n",
       "      <th>DATA</th>\n",
       "      <td>0</td>\n",
       "    </tr>\n",
       "    <tr>\n",
       "      <th>ESTADOCIVIL</th>\n",
       "      <td>0</td>\n",
       "    </tr>\n",
       "    <tr>\n",
       "      <th>PROPOSITO</th>\n",
       "      <td>0</td>\n",
       "    </tr>\n",
       "  </tbody>\n",
       "</table>\n",
       "</div>"
      ],
      "text/plain": [
       "                  0\n",
       "SALDO_ATUAL       0\n",
       "RESIDENCIADESDE   0\n",
       "IDADE             0\n",
       "OUTROSPLANOSPGTO  0\n",
       "DATA              0\n",
       "ESTADOCIVIL       0\n",
       "PROPOSITO         0"
      ]
     },
     "execution_count": 38,
     "metadata": {},
     "output_type": "execute_result"
    }
   ],
   "source": [
    "# Substitui o estado civil pela moda\n",
    "X['ESTADOCIVIL'].fillna('masculino solteiro', inplace=True)\n",
    "\n",
    "# Checa resultado\n",
    "X.isnull().sum().to_frame()"
   ]
  },
  {
   "cell_type": "code",
   "execution_count": 45,
   "metadata": {},
   "outputs": [
    {
     "name": "stdout",
     "output_type": "stream",
     "text": [
      "Desvio padrão = 685936688.9820067\n"
     ]
    },
    {
     "data": {
      "text/html": [
       "<div>\n",
       "<style scoped>\n",
       "    .dataframe tbody tr th:only-of-type {\n",
       "        vertical-align: middle;\n",
       "    }\n",
       "\n",
       "    .dataframe tbody tr th {\n",
       "        vertical-align: top;\n",
       "    }\n",
       "\n",
       "    .dataframe thead th {\n",
       "        text-align: right;\n",
       "    }\n",
       "</style>\n",
       "<table border=\"1\" class=\"dataframe\">\n",
       "  <thead>\n",
       "    <tr style=\"text-align: right;\">\n",
       "      <th></th>\n",
       "      <th>SALDO_ATUAL</th>\n",
       "    </tr>\n",
       "  </thead>\n",
       "  <tbody>\n",
       "    <tr>\n",
       "      <th>127</th>\n",
       "      <td>2.541111e+09</td>\n",
       "    </tr>\n",
       "    <tr>\n",
       "      <th>160</th>\n",
       "      <td>2.154441e+10</td>\n",
       "    </tr>\n",
       "  </tbody>\n",
       "</table>\n",
       "</div>"
      ],
      "text/plain": [
       "      SALDO_ATUAL\n",
       "127  2.541111e+09\n",
       "160  2.154441e+10"
      ]
     },
     "execution_count": 45,
     "metadata": {},
     "output_type": "execute_result"
    }
   ],
   "source": [
    "#outliers, definimos como acima de 2 sd\n",
    "desv = X['SALDO_ATUAL'].std()\n",
    "print(f'Desvio padrão = {desv}')\n",
    "\n",
    "#checamos se algum SALDO_ATUAL atende critério\n",
    "X.loc[X['SALDO_ATUAL'] >=  2 * desv ,'SALDO_ATUAL'].to_frame()"
   ]
  },
  {
   "cell_type": "code",
   "execution_count": 46,
   "metadata": {},
   "outputs": [
    {
     "name": "stdout",
     "output_type": "stream",
     "text": [
      "Mediana = 2323.0\n"
     ]
    },
    {
     "data": {
      "text/html": [
       "<div>\n",
       "<style scoped>\n",
       "    .dataframe tbody tr th:only-of-type {\n",
       "        vertical-align: middle;\n",
       "    }\n",
       "\n",
       "    .dataframe tbody tr th {\n",
       "        vertical-align: top;\n",
       "    }\n",
       "\n",
       "    .dataframe thead th {\n",
       "        text-align: right;\n",
       "    }\n",
       "</style>\n",
       "<table border=\"1\" class=\"dataframe\">\n",
       "  <thead>\n",
       "    <tr style=\"text-align: right;\">\n",
       "      <th></th>\n",
       "      <th>SALDO_ATUAL</th>\n",
       "      <th>RESIDENCIADESDE</th>\n",
       "      <th>IDADE</th>\n",
       "      <th>OUTROSPLANOSPGTO</th>\n",
       "      <th>DATA</th>\n",
       "      <th>ESTADOCIVIL</th>\n",
       "      <th>PROPOSITO</th>\n",
       "      <th>ANO</th>\n",
       "      <th>MES</th>\n",
       "      <th>DIASEMANA</th>\n",
       "    </tr>\n",
       "  </thead>\n",
       "  <tbody>\n",
       "  </tbody>\n",
       "</table>\n",
       "</div>"
      ],
      "text/plain": [
       "Empty DataFrame\n",
       "Columns: [SALDO_ATUAL, RESIDENCIADESDE, IDADE, OUTROSPLANOSPGTO, DATA, ESTADOCIVIL, PROPOSITO, ANO, MES, DIASEMANA]\n",
       "Index: []"
      ]
     },
     "execution_count": 46,
     "metadata": {},
     "output_type": "execute_result"
    }
   ],
   "source": [
    "# Vamos atualizar o Saldo para mediana, calculamos\n",
    "mediana =X['SALDO_ATUAL'].median()\n",
    "print(f'Mediana = {mediana}')\n",
    "\n",
    "# Atribumos pela mediana\n",
    "X.loc[X['SALDO_ATUAL'] >=  2 * desv, 'SALDO_ATUAL'] = mediana\n",
    "\n",
    "# Checamos se algum atende critério\n",
    "X.loc[X['SALDO_ATUAL'] >=  2 * desv ] "
   ]
  },
  {
   "cell_type": "code",
   "execution_count": 39,
   "metadata": {},
   "outputs": [
    {
     "data": {
      "text/html": [
       "<div>\n",
       "<style scoped>\n",
       "    .dataframe tbody tr th:only-of-type {\n",
       "        vertical-align: middle;\n",
       "    }\n",
       "\n",
       "    .dataframe tbody tr th {\n",
       "        vertical-align: top;\n",
       "    }\n",
       "\n",
       "    .dataframe thead th {\n",
       "        text-align: right;\n",
       "    }\n",
       "</style>\n",
       "<table border=\"1\" class=\"dataframe\">\n",
       "  <thead>\n",
       "    <tr style=\"text-align: right;\">\n",
       "      <th></th>\n",
       "      <th>0</th>\n",
       "    </tr>\n",
       "    <tr>\n",
       "      <th>PROPOSITO</th>\n",
       "      <th></th>\n",
       "    </tr>\n",
       "  </thead>\n",
       "  <tbody>\n",
       "    <tr>\n",
       "      <th>Eletrodomésticos</th>\n",
       "      <td>12</td>\n",
       "    </tr>\n",
       "    <tr>\n",
       "      <th>carro novo</th>\n",
       "      <td>234</td>\n",
       "    </tr>\n",
       "    <tr>\n",
       "      <th>carro usado</th>\n",
       "      <td>103</td>\n",
       "    </tr>\n",
       "    <tr>\n",
       "      <th>educação</th>\n",
       "      <td>50</td>\n",
       "    </tr>\n",
       "    <tr>\n",
       "      <th>mobilia/equipamento</th>\n",
       "      <td>181</td>\n",
       "    </tr>\n",
       "    <tr>\n",
       "      <th>negócios</th>\n",
       "      <td>97</td>\n",
       "    </tr>\n",
       "    <tr>\n",
       "      <th>obras</th>\n",
       "      <td>22</td>\n",
       "    </tr>\n",
       "    <tr>\n",
       "      <th>outros</th>\n",
       "      <td>12</td>\n",
       "    </tr>\n",
       "    <tr>\n",
       "      <th>qualificação</th>\n",
       "      <td>9</td>\n",
       "    </tr>\n",
       "    <tr>\n",
       "      <th>radio/tv</th>\n",
       "      <td>280</td>\n",
       "    </tr>\n",
       "  </tbody>\n",
       "</table>\n",
       "</div>"
      ],
      "text/plain": [
       "                       0\n",
       "PROPOSITO               \n",
       "Eletrodomésticos      12\n",
       "carro novo           234\n",
       "carro usado          103\n",
       "educação              50\n",
       "mobilia/equipamento  181\n",
       "negócios              97\n",
       "obras                 22\n",
       "outros                12\n",
       "qualificação           9\n",
       "radio/tv             280"
      ]
     },
     "execution_count": 39,
     "metadata": {},
     "output_type": "execute_result"
    }
   ],
   "source": [
    "#data binding\n",
    "agrupado = X.groupby(['PROPOSITO']).size()\n",
    "agrupado.to_frame()"
   ]
  },
  {
   "cell_type": "code",
   "execution_count": 40,
   "metadata": {},
   "outputs": [
    {
     "data": {
      "text/html": [
       "<div>\n",
       "<style scoped>\n",
       "    .dataframe tbody tr th:only-of-type {\n",
       "        vertical-align: middle;\n",
       "    }\n",
       "\n",
       "    .dataframe tbody tr th {\n",
       "        vertical-align: top;\n",
       "    }\n",
       "\n",
       "    .dataframe thead th {\n",
       "        text-align: right;\n",
       "    }\n",
       "</style>\n",
       "<table border=\"1\" class=\"dataframe\">\n",
       "  <thead>\n",
       "    <tr style=\"text-align: right;\">\n",
       "      <th></th>\n",
       "      <th>0</th>\n",
       "    </tr>\n",
       "    <tr>\n",
       "      <th>PROPOSITO</th>\n",
       "      <th></th>\n",
       "    </tr>\n",
       "  </thead>\n",
       "  <tbody>\n",
       "    <tr>\n",
       "      <th>carro novo</th>\n",
       "      <td>234</td>\n",
       "    </tr>\n",
       "    <tr>\n",
       "      <th>carro usado</th>\n",
       "      <td>103</td>\n",
       "    </tr>\n",
       "    <tr>\n",
       "      <th>negócios</th>\n",
       "      <td>97</td>\n",
       "    </tr>\n",
       "    <tr>\n",
       "      <th>obras</th>\n",
       "      <td>22</td>\n",
       "    </tr>\n",
       "    <tr>\n",
       "      <th>outros</th>\n",
       "      <td>255</td>\n",
       "    </tr>\n",
       "    <tr>\n",
       "      <th>qualificação</th>\n",
       "      <td>9</td>\n",
       "    </tr>\n",
       "    <tr>\n",
       "      <th>radio/tv</th>\n",
       "      <td>280</td>\n",
       "    </tr>\n",
       "  </tbody>\n",
       "</table>\n",
       "</div>"
      ],
      "text/plain": [
       "                0\n",
       "PROPOSITO        \n",
       "carro novo    234\n",
       "carro usado   103\n",
       "negócios       97\n",
       "obras          22\n",
       "outros        255\n",
       "qualificação    9\n",
       "radio/tv      280"
      ]
     },
     "execution_count": 40,
     "metadata": {},
     "output_type": "execute_result"
    }
   ],
   "source": [
    "X.loc[X['PROPOSITO'] == 'Eletrodomésticos', 'PROPOSITO'] = 'outros'\n",
    "X.loc[X['PROPOSITO'] == 'mobilia/equipamento', 'PROPOSITO'] = 'outros'\n",
    "X.loc[X['PROPOSITO'] == 'educação', 'PROPOSITO'] = 'outros'\n",
    "agrupado = X.groupby(['PROPOSITO']).size()\n",
    "agrupado.to_frame()"
   ]
  },
  {
   "cell_type": "code",
   "execution_count": 41,
   "metadata": {},
   "outputs": [
    {
     "data": {
      "text/plain": [
       "0     2019-01-01\n",
       "1     2020-01-01\n",
       "2     2020-01-02\n",
       "3     2019-01-02\n",
       "4     2018-01-03\n",
       "         ...    \n",
       "995   2018-06-29\n",
       "996   2018-06-30\n",
       "997   2018-07-03\n",
       "998   2019-07-04\n",
       "999   2018-07-05\n",
       "Name: DATA, Length: 1000, dtype: datetime64[ns]"
      ]
     },
     "execution_count": 41,
     "metadata": {},
     "output_type": "execute_result"
    }
   ],
   "source": [
    "#extração de caracteristicas da data\n",
    "#transforma coluna em data\n",
    "X['DATA'] = pd.to_datetime(X['DATA'], format=\"%d/%m/%Y\")\n",
    "X['DATA']"
   ]
  },
  {
   "cell_type": "code",
   "execution_count": 43,
   "metadata": {},
   "outputs": [
    {
     "data": {
      "text/html": [
       "<div>\n",
       "<style scoped>\n",
       "    .dataframe tbody tr th:only-of-type {\n",
       "        vertical-align: middle;\n",
       "    }\n",
       "\n",
       "    .dataframe tbody tr th {\n",
       "        vertical-align: top;\n",
       "    }\n",
       "\n",
       "    .dataframe thead th {\n",
       "        text-align: right;\n",
       "    }\n",
       "</style>\n",
       "<table border=\"1\" class=\"dataframe\">\n",
       "  <thead>\n",
       "    <tr style=\"text-align: right;\">\n",
       "      <th></th>\n",
       "      <th>DIASEMANA</th>\n",
       "    </tr>\n",
       "  </thead>\n",
       "  <tbody>\n",
       "    <tr>\n",
       "      <th>0</th>\n",
       "      <td>Tuesday</td>\n",
       "    </tr>\n",
       "    <tr>\n",
       "      <th>1</th>\n",
       "      <td>Wednesday</td>\n",
       "    </tr>\n",
       "    <tr>\n",
       "      <th>2</th>\n",
       "      <td>Thursday</td>\n",
       "    </tr>\n",
       "    <tr>\n",
       "      <th>3</th>\n",
       "      <td>Wednesday</td>\n",
       "    </tr>\n",
       "    <tr>\n",
       "      <th>4</th>\n",
       "      <td>Wednesday</td>\n",
       "    </tr>\n",
       "    <tr>\n",
       "      <th>...</th>\n",
       "      <td>...</td>\n",
       "    </tr>\n",
       "    <tr>\n",
       "      <th>995</th>\n",
       "      <td>Friday</td>\n",
       "    </tr>\n",
       "    <tr>\n",
       "      <th>996</th>\n",
       "      <td>Saturday</td>\n",
       "    </tr>\n",
       "    <tr>\n",
       "      <th>997</th>\n",
       "      <td>Tuesday</td>\n",
       "    </tr>\n",
       "    <tr>\n",
       "      <th>998</th>\n",
       "      <td>Thursday</td>\n",
       "    </tr>\n",
       "    <tr>\n",
       "      <th>999</th>\n",
       "      <td>Thursday</td>\n",
       "    </tr>\n",
       "  </tbody>\n",
       "</table>\n",
       "<p>1000 rows × 1 columns</p>\n",
       "</div>"
      ],
      "text/plain": [
       "     DIASEMANA\n",
       "0      Tuesday\n",
       "1    Wednesday\n",
       "2     Thursday\n",
       "3    Wednesday\n",
       "4    Wednesday\n",
       "..         ...\n",
       "995     Friday\n",
       "996   Saturday\n",
       "997    Tuesday\n",
       "998   Thursday\n",
       "999   Thursday\n",
       "\n",
       "[1000 rows x 1 columns]"
      ]
     },
     "execution_count": 43,
     "metadata": {},
     "output_type": "execute_result"
    }
   ],
   "source": [
    "#criamos 3 novos atributos\n",
    "X['ANO'] = X['DATA'].dt.year\n",
    "X['MES'] = X['DATA'].dt.month\n",
    "X['DIASEMANA'] = X['DATA'].dt.day_name()\n",
    "X['DIASEMANA'].to_frame()"
   ]
  },
  {
   "cell_type": "markdown",
   "metadata": {},
   "source": [
    "Muito interessante a ideia de dias da semana para label enconding."
   ]
  },
  {
   "cell_type": "markdown",
   "metadata": {},
   "source": [
    "## Label enconding"
   ]
  },
  {
   "cell_type": "code",
   "execution_count": 22,
   "metadata": {},
   "outputs": [
    {
     "data": {
      "text/plain": [
       "array(['masculino solteiro', 'fem div/cas', 'masculino div/sep',\n",
       "       'masculino casado/viuvo'], dtype=object)"
      ]
     },
     "execution_count": 22,
     "metadata": {},
     "output_type": "execute_result"
    }
   ],
   "source": [
    "#label encoder estado civil, proposito e dia semana\n",
    "X['ESTADOCIVIL'].unique()"
   ]
  },
  {
   "cell_type": "code",
   "execution_count": 23,
   "metadata": {},
   "outputs": [
    {
     "data": {
      "text/plain": [
       "array(['radio/tv', 'outros', 'carro novo', 'carro usado', 'negócios',\n",
       "       'obras', 'qualificação'], dtype=object)"
      ]
     },
     "execution_count": 23,
     "metadata": {},
     "output_type": "execute_result"
    }
   ],
   "source": [
    "X['PROPOSITO'].unique()"
   ]
  },
  {
   "cell_type": "code",
   "execution_count": 24,
   "metadata": {},
   "outputs": [
    {
     "data": {
      "text/plain": [
       "array(['Tuesday', 'Wednesday', 'Thursday', 'Saturday', 'Sunday', 'Monday',\n",
       "       'Friday'], dtype=object)"
      ]
     },
     "execution_count": 24,
     "metadata": {},
     "output_type": "execute_result"
    }
   ],
   "source": [
    "X['DIASEMANA'].unique()"
   ]
  },
  {
   "cell_type": "code",
   "execution_count": 25,
   "metadata": {},
   "outputs": [],
   "source": [
    "labelencoder1 = LabelEncoder()\n",
    "X['ESTADOCIVIL'] = labelencoder1.fit_transform(X['ESTADOCIVIL'])\n",
    "X['PROPOSITO'] = labelencoder1.fit_transform(X['PROPOSITO'])\n",
    "X['DIASEMANA'] = labelencoder1.fit_transform(X['DIASEMANA'])\n",
    "X.head()"
   ]
  },
  {
   "cell_type": "code",
   "execution_count": 27,
   "metadata": {},
   "outputs": [
    {
     "data": {
      "text/plain": [
       "array(['nenhum', 'banco', 'stores'], dtype=object)"
      ]
     },
     "execution_count": 27,
     "metadata": {},
     "output_type": "execute_result"
    }
   ],
   "source": [
    "#one hot encodigo\n",
    "#OUTROSPLANOSPGTO\n",
    "outros = X['OUTROSPLANOSPGTO'].unique()\n",
    "outros"
   ]
  },
  {
   "cell_type": "markdown",
   "metadata": {},
   "source": [
    "## One hot enconding"
   ]
  },
  {
   "cell_type": "code",
   "execution_count": 47,
   "metadata": {},
   "outputs": [
    {
     "data": {
      "text/html": [
       "<div>\n",
       "<style scoped>\n",
       "    .dataframe tbody tr th:only-of-type {\n",
       "        vertical-align: middle;\n",
       "    }\n",
       "\n",
       "    .dataframe tbody tr th {\n",
       "        vertical-align: top;\n",
       "    }\n",
       "\n",
       "    .dataframe thead th {\n",
       "        text-align: right;\n",
       "    }\n",
       "</style>\n",
       "<table border=\"1\" class=\"dataframe\">\n",
       "  <thead>\n",
       "    <tr style=\"text-align: right;\">\n",
       "      <th></th>\n",
       "      <th>OUTROS_banco</th>\n",
       "      <th>OUTROS_nenhum</th>\n",
       "      <th>OUTROS_stores</th>\n",
       "    </tr>\n",
       "  </thead>\n",
       "  <tbody>\n",
       "    <tr>\n",
       "      <th>0</th>\n",
       "      <td>0</td>\n",
       "      <td>1</td>\n",
       "      <td>0</td>\n",
       "    </tr>\n",
       "    <tr>\n",
       "      <th>1</th>\n",
       "      <td>0</td>\n",
       "      <td>1</td>\n",
       "      <td>0</td>\n",
       "    </tr>\n",
       "    <tr>\n",
       "      <th>2</th>\n",
       "      <td>0</td>\n",
       "      <td>1</td>\n",
       "      <td>0</td>\n",
       "    </tr>\n",
       "    <tr>\n",
       "      <th>3</th>\n",
       "      <td>0</td>\n",
       "      <td>1</td>\n",
       "      <td>0</td>\n",
       "    </tr>\n",
       "    <tr>\n",
       "      <th>4</th>\n",
       "      <td>0</td>\n",
       "      <td>1</td>\n",
       "      <td>0</td>\n",
       "    </tr>\n",
       "    <tr>\n",
       "      <th>...</th>\n",
       "      <td>...</td>\n",
       "      <td>...</td>\n",
       "      <td>...</td>\n",
       "    </tr>\n",
       "    <tr>\n",
       "      <th>995</th>\n",
       "      <td>0</td>\n",
       "      <td>1</td>\n",
       "      <td>0</td>\n",
       "    </tr>\n",
       "    <tr>\n",
       "      <th>996</th>\n",
       "      <td>0</td>\n",
       "      <td>1</td>\n",
       "      <td>0</td>\n",
       "    </tr>\n",
       "    <tr>\n",
       "      <th>997</th>\n",
       "      <td>0</td>\n",
       "      <td>1</td>\n",
       "      <td>0</td>\n",
       "    </tr>\n",
       "    <tr>\n",
       "      <th>998</th>\n",
       "      <td>0</td>\n",
       "      <td>1</td>\n",
       "      <td>0</td>\n",
       "    </tr>\n",
       "    <tr>\n",
       "      <th>999</th>\n",
       "      <td>0</td>\n",
       "      <td>1</td>\n",
       "      <td>0</td>\n",
       "    </tr>\n",
       "  </tbody>\n",
       "</table>\n",
       "<p>1000 rows × 3 columns</p>\n",
       "</div>"
      ],
      "text/plain": [
       "     OUTROS_banco  OUTROS_nenhum  OUTROS_stores\n",
       "0               0              1              0\n",
       "1               0              1              0\n",
       "2               0              1              0\n",
       "3               0              1              0\n",
       "4               0              1              0\n",
       "..            ...            ...            ...\n",
       "995             0              1              0\n",
       "996             0              1              0\n",
       "997             0              1              0\n",
       "998             0              1              0\n",
       "999             0              1              0\n",
       "\n",
       "[1000 rows x 3 columns]"
      ]
     },
     "execution_count": 47,
     "metadata": {},
     "output_type": "execute_result"
    }
   ],
   "source": [
    "## Binning para coluna muito categórica\n",
    "z = pd.get_dummies(X['OUTROSPLANOSPGTO'], prefix='OUTROS')\n",
    "z"
   ]
  },
  {
   "cell_type": "markdown",
   "metadata": {},
   "source": [
    "Cuidar do problema do _dummy variable trap_. Então vamos remover uma ."
   ]
  },
  {
   "cell_type": "markdown",
   "metadata": {},
   "source": [
    "# Normalização"
   ]
  },
  {
   "cell_type": "code",
   "execution_count": 29,
   "metadata": {},
   "outputs": [
    {
     "data": {
      "text/plain": [
       "array([[-0.74551643,  1.04698668,  1.6392759 ],\n",
       "       [ 0.95774038, -0.76597727, -0.74024139],\n",
       "       [-0.41533679,  0.14050471,  0.68746898],\n",
       "       ...,\n",
       "       [-0.87552244,  1.04698668,  0.1058092 ],\n",
       "       [-0.50473818,  1.04698668, -0.68736323],\n",
       "       [ 0.46799171,  1.04698668, -0.47585058]])"
      ]
     },
     "execution_count": 29,
     "metadata": {},
     "output_type": "execute_result"
    }
   ],
   "source": [
    "#padronização Z-score\n",
    "#gera objeto numpy\n",
    "sc = StandardScaler()\n",
    "m = sc.fit_transform( X.iloc[:,0:3])\n",
    "m"
   ]
  },
  {
   "cell_type": "code",
   "execution_count": 48,
   "metadata": {},
   "outputs": [
    {
     "data": {
      "text/html": [
       "<div>\n",
       "<style scoped>\n",
       "    .dataframe tbody tr th:only-of-type {\n",
       "        vertical-align: middle;\n",
       "    }\n",
       "\n",
       "    .dataframe tbody tr th {\n",
       "        vertical-align: top;\n",
       "    }\n",
       "\n",
       "    .dataframe thead th {\n",
       "        text-align: right;\n",
       "    }\n",
       "</style>\n",
       "<table border=\"1\" class=\"dataframe\">\n",
       "  <thead>\n",
       "    <tr style=\"text-align: right;\">\n",
       "      <th></th>\n",
       "      <th>SALDO_ATUAL</th>\n",
       "      <th>RESIDENCIADESDE</th>\n",
       "      <th>IDADE</th>\n",
       "      <th>OUTROSPLANOSPGTO</th>\n",
       "      <th>DATA</th>\n",
       "      <th>ESTADOCIVIL</th>\n",
       "      <th>PROPOSITO</th>\n",
       "      <th>ANO</th>\n",
       "      <th>MES</th>\n",
       "      <th>DIASEMANA</th>\n",
       "      <th>OUTROS_banco</th>\n",
       "      <th>OUTROS_nenhum</th>\n",
       "      <th>OUTROS_stores</th>\n",
       "      <th>SALDO_ATUAL_N</th>\n",
       "      <th>RESIDENCIADESDE_N</th>\n",
       "      <th>IDADE_N</th>\n",
       "    </tr>\n",
       "  </thead>\n",
       "  <tbody>\n",
       "    <tr>\n",
       "      <th>0</th>\n",
       "      <td>1169.0</td>\n",
       "      <td>4</td>\n",
       "      <td>67</td>\n",
       "      <td>nenhum</td>\n",
       "      <td>2019-01-01</td>\n",
       "      <td>masculino solteiro</td>\n",
       "      <td>radio/tv</td>\n",
       "      <td>2019</td>\n",
       "      <td>1</td>\n",
       "      <td>Tuesday</td>\n",
       "      <td>0</td>\n",
       "      <td>1</td>\n",
       "      <td>0</td>\n",
       "      <td>-0.745516</td>\n",
       "      <td>1.046987</td>\n",
       "      <td>1.639276</td>\n",
       "    </tr>\n",
       "    <tr>\n",
       "      <th>1</th>\n",
       "      <td>5951.0</td>\n",
       "      <td>2</td>\n",
       "      <td>22</td>\n",
       "      <td>nenhum</td>\n",
       "      <td>2020-01-01</td>\n",
       "      <td>fem div/cas</td>\n",
       "      <td>radio/tv</td>\n",
       "      <td>2020</td>\n",
       "      <td>1</td>\n",
       "      <td>Wednesday</td>\n",
       "      <td>0</td>\n",
       "      <td>1</td>\n",
       "      <td>0</td>\n",
       "      <td>0.957740</td>\n",
       "      <td>-0.765977</td>\n",
       "      <td>-0.740241</td>\n",
       "    </tr>\n",
       "    <tr>\n",
       "      <th>2</th>\n",
       "      <td>2096.0</td>\n",
       "      <td>3</td>\n",
       "      <td>49</td>\n",
       "      <td>nenhum</td>\n",
       "      <td>2020-01-02</td>\n",
       "      <td>masculino solteiro</td>\n",
       "      <td>outros</td>\n",
       "      <td>2020</td>\n",
       "      <td>1</td>\n",
       "      <td>Thursday</td>\n",
       "      <td>0</td>\n",
       "      <td>1</td>\n",
       "      <td>0</td>\n",
       "      <td>-0.415337</td>\n",
       "      <td>0.140505</td>\n",
       "      <td>0.687469</td>\n",
       "    </tr>\n",
       "  </tbody>\n",
       "</table>\n",
       "</div>"
      ],
      "text/plain": [
       "   SALDO_ATUAL  RESIDENCIADESDE  IDADE OUTROSPLANOSPGTO       DATA  \\\n",
       "0       1169.0                4     67           nenhum 2019-01-01   \n",
       "1       5951.0                2     22           nenhum 2020-01-01   \n",
       "2       2096.0                3     49           nenhum 2020-01-02   \n",
       "\n",
       "          ESTADOCIVIL PROPOSITO   ANO  MES  DIASEMANA  OUTROS_banco  \\\n",
       "0  masculino solteiro  radio/tv  2019    1    Tuesday             0   \n",
       "1         fem div/cas  radio/tv  2020    1  Wednesday             0   \n",
       "2  masculino solteiro    outros  2020    1   Thursday             0   \n",
       "\n",
       "   OUTROS_nenhum  OUTROS_stores  SALDO_ATUAL_N  RESIDENCIADESDE_N   IDADE_N  \n",
       "0              1              0      -0.745516           1.046987  1.639276  \n",
       "1              1              0       0.957740          -0.765977 -0.740241  \n",
       "2              1              0      -0.415337           0.140505  0.687469  "
      ]
     },
     "execution_count": 48,
     "metadata": {},
     "output_type": "execute_result"
    }
   ],
   "source": [
    "#concatena os dados\n",
    "X = pd.concat([X,z,pd.DataFrame(m, columns=['SALDO_ATUAL_N','RESIDENCIADESDE_N','IDADE_N'])], axis=1)\n",
    "X.head(3)"
   ]
  },
  {
   "cell_type": "code",
   "execution_count": 49,
   "metadata": {},
   "outputs": [
    {
     "data": {
      "text/html": [
       "<div>\n",
       "<style scoped>\n",
       "    .dataframe tbody tr th:only-of-type {\n",
       "        vertical-align: middle;\n",
       "    }\n",
       "\n",
       "    .dataframe tbody tr th {\n",
       "        vertical-align: top;\n",
       "    }\n",
       "\n",
       "    .dataframe thead th {\n",
       "        text-align: right;\n",
       "    }\n",
       "</style>\n",
       "<table border=\"1\" class=\"dataframe\">\n",
       "  <thead>\n",
       "    <tr style=\"text-align: right;\">\n",
       "      <th></th>\n",
       "      <th>ESTADOCIVIL</th>\n",
       "      <th>PROPOSITO</th>\n",
       "      <th>ANO</th>\n",
       "      <th>MES</th>\n",
       "      <th>DIASEMANA</th>\n",
       "      <th>OUTROS_nenhum</th>\n",
       "      <th>OUTROS_stores</th>\n",
       "      <th>SALDO_ATUAL_N</th>\n",
       "      <th>RESIDENCIADESDE_N</th>\n",
       "      <th>IDADE_N</th>\n",
       "    </tr>\n",
       "  </thead>\n",
       "  <tbody>\n",
       "    <tr>\n",
       "      <th>0</th>\n",
       "      <td>masculino solteiro</td>\n",
       "      <td>radio/tv</td>\n",
       "      <td>2019</td>\n",
       "      <td>1</td>\n",
       "      <td>Tuesday</td>\n",
       "      <td>1</td>\n",
       "      <td>0</td>\n",
       "      <td>-0.745516</td>\n",
       "      <td>1.046987</td>\n",
       "      <td>1.639276</td>\n",
       "    </tr>\n",
       "    <tr>\n",
       "      <th>1</th>\n",
       "      <td>fem div/cas</td>\n",
       "      <td>radio/tv</td>\n",
       "      <td>2020</td>\n",
       "      <td>1</td>\n",
       "      <td>Wednesday</td>\n",
       "      <td>1</td>\n",
       "      <td>0</td>\n",
       "      <td>0.957740</td>\n",
       "      <td>-0.765977</td>\n",
       "      <td>-0.740241</td>\n",
       "    </tr>\n",
       "    <tr>\n",
       "      <th>2</th>\n",
       "      <td>masculino solteiro</td>\n",
       "      <td>outros</td>\n",
       "      <td>2020</td>\n",
       "      <td>1</td>\n",
       "      <td>Thursday</td>\n",
       "      <td>1</td>\n",
       "      <td>0</td>\n",
       "      <td>-0.415337</td>\n",
       "      <td>0.140505</td>\n",
       "      <td>0.687469</td>\n",
       "    </tr>\n",
       "  </tbody>\n",
       "</table>\n",
       "</div>"
      ],
      "text/plain": [
       "          ESTADOCIVIL PROPOSITO   ANO  MES  DIASEMANA  OUTROS_nenhum  \\\n",
       "0  masculino solteiro  radio/tv  2019    1    Tuesday              1   \n",
       "1         fem div/cas  radio/tv  2020    1  Wednesday              1   \n",
       "2  masculino solteiro    outros  2020    1   Thursday              1   \n",
       "\n",
       "   OUTROS_stores  SALDO_ATUAL_N  RESIDENCIADESDE_N   IDADE_N  \n",
       "0              0      -0.745516           1.046987  1.639276  \n",
       "1              0       0.957740          -0.765977 -0.740241  \n",
       "2              0      -0.415337           0.140505  0.687469  "
      ]
     },
     "execution_count": 49,
     "metadata": {},
     "output_type": "execute_result"
    }
   ],
   "source": [
    "#remover: saldo_atual e residenciadesde e idade foram normalizados\n",
    "#outros planospagto foi feito onehot\n",
    "#data foi extraida características\n",
    "#OUTROS_banco por causa da dumy variable trap\n",
    "X.drop(columns=['SALDO_ATUAL', 'RESIDENCIADESDE','IDADE','OUTROSPLANOSPGTO','DATA', 'OUTROS_banco'], inplace=True)\n",
    "X.head(3)"
   ]
  },
  {
   "cell_type": "markdown",
   "metadata": {},
   "source": [
    "# Treinando o modelo"
   ]
  },
  {
   "cell_type": "code",
   "execution_count": 32,
   "metadata": {},
   "outputs": [
    {
     "data": {
      "text/plain": [
       "0.7"
      ]
     },
     "execution_count": 32,
     "metadata": {},
     "output_type": "execute_result"
    }
   ],
   "source": [
    "X_treinamento, X_teste, y_treinamento, y_teste = train_test_split(X,y,test_size = 0.3,random_state = 0)\n",
    "floresta = RandomForestClassifier(n_estimators = 100)\n",
    "floresta.fit(X_treinamento, y_treinamento)\n",
    "previsoes = floresta.predict(X_teste)\n",
    "confusao = confusion_matrix(y_teste, previsoes)\n",
    "taxa_acerto = accuracy_score(y_teste, previsoes)\n",
    "taxa_acerto"
   ]
  }
 ],
 "metadata": {
  "kernelspec": {
   "display_name": "Python 3.9.13 64-bit",
   "language": "python",
   "name": "python3"
  },
  "language_info": {
   "codemirror_mode": {
    "name": "ipython",
    "version": 3
   },
   "file_extension": ".py",
   "mimetype": "text/x-python",
   "name": "python",
   "nbconvert_exporter": "python",
   "pygments_lexer": "ipython3",
   "version": "3.9.13"
  },
  "vscode": {
   "interpreter": {
    "hash": "b0fa6594d8f4cbf19f97940f81e996739fb7646882a419484c72d19e05852a7e"
   }
  }
 },
 "nbformat": 4,
 "nbformat_minor": 4
}
